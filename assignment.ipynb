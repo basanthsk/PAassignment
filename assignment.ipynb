{
 "cells": [
  {
   "cell_type": "code",
   "execution_count": null,
   "id": "830fbdfc",
   "metadata": {},
   "outputs": [],
   "source": [
    "#Create a function in python to read the text file and replace specific content\n",
    "#of the file."
   ]
  },
  {
   "cell_type": "code",
   "execution_count": 26,
   "id": "90041ea1",
   "metadata": {},
   "outputs": [],
   "source": [
    "def string_replacement(FileName):\n",
    "    newlines = []\n",
    "    try:\n",
    "        with open(FileName,'r') as fp:\n",
    "            for line in fp:\n",
    "                newlines.append(line.replace('placement', 'screening'))\n",
    "    except Exception as e:\n",
    "        print(e)\n",
    "    try:    \n",
    "        with open(FileName, \"w\") as fp:\n",
    "            for line in newlines:\n",
    "                fp.write(line)\n",
    "    except Exception as e:\n",
    "        print(e)"
   ]
  },
  {
   "cell_type": "code",
   "execution_count": 27,
   "id": "3b144ecc",
   "metadata": {},
   "outputs": [],
   "source": [
    "string_replacement('example.txt')"
   ]
  },
  {
   "cell_type": "code",
   "execution_count": null,
   "id": "3a81fc0a",
   "metadata": {},
   "outputs": [],
   "source": []
  }
 ],
 "metadata": {
  "kernelspec": {
   "display_name": "Python 3 (ipykernel)",
   "language": "python",
   "name": "python3"
  },
  "language_info": {
   "codemirror_mode": {
    "name": "ipython",
    "version": 3
   },
   "file_extension": ".py",
   "mimetype": "text/x-python",
   "name": "python",
   "nbconvert_exporter": "python",
   "pygments_lexer": "ipython3",
   "version": "3.9.7"
  }
 },
 "nbformat": 4,
 "nbformat_minor": 5
}
