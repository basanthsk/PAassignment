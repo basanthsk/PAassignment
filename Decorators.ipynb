{
 "cells": [
  {
   "cell_type": "markdown",
   "id": "98f7caa3",
   "metadata": {},
   "source": [
    "decorator in python is a function, which takes another function as an argument and extends its behaviour without modifying it"
   ]
  },
  {
   "cell_type": "markdown",
   "id": "c2d37a74",
   "metadata": {},
   "source": [
    "Let us conider a two function \"ADD\" and \"MUL\" takes two variable a and b and returns sum and product as below"
   ]
  },
  {
   "cell_type": "code",
   "execution_count": 18,
   "id": "391543c5",
   "metadata": {},
   "outputs": [],
   "source": [
    "def ADD(a, b):\n",
    "    return a+b\n"
   ]
  },
  {
   "cell_type": "code",
   "execution_count": 19,
   "id": "b2967788",
   "metadata": {},
   "outputs": [
    {
     "data": {
      "text/plain": [
       "5"
      ]
     },
     "execution_count": 19,
     "metadata": {},
     "output_type": "execute_result"
    }
   ],
   "source": [
    "ADD(2,3)"
   ]
  },
  {
   "cell_type": "code",
   "execution_count": 20,
   "id": "945bea39",
   "metadata": {},
   "outputs": [],
   "source": [
    "def MUL(a,b):\n",
    "    return a*b"
   ]
  },
  {
   "cell_type": "code",
   "execution_count": 21,
   "id": "00f2acc4",
   "metadata": {},
   "outputs": [
    {
     "data": {
      "text/plain": [
       "6"
      ]
     },
     "execution_count": 21,
     "metadata": {},
     "output_type": "execute_result"
    }
   ],
   "source": [
    "MUL(2,3)"
   ]
  },
  {
   "cell_type": "markdown",
   "id": "e6bb7f33",
   "metadata": {},
   "source": [
    "Now I want to print the output in a fancy way in \"ADD\" and \"MUL\" function rather than simple output. \n",
    "One way to do it is add additional code to both functions with print fucntion.  \n",
    "I want to achive same thing without making any changes to \"ADD\" and \"MUL\"  function.  \n",
    "This can be done with the help of decorators.  \n",
    "Let us define another function \"print_it\" which takes function as input and prints output in fance way."
   ]
  },
  {
   "cell_type": "code",
   "execution_count": 23,
   "id": "60be107b",
   "metadata": {},
   "outputs": [],
   "source": [
    "def print_it(fn):\n",
    "    def show_result(a, b):\n",
    "        print(f\"{fn.__name__}({a},{b}) is = to {fn(a, b)}\")\n",
    "    return show_result\n",
    "    "
   ]
  },
  {
   "cell_type": "markdown",
   "id": "e7231468",
   "metadata": {},
   "source": [
    "Now add decorator to above \"ADD\" and \"MUL\"  function as shown below"
   ]
  },
  {
   "cell_type": "code",
   "execution_count": 24,
   "id": "adc4aac1",
   "metadata": {},
   "outputs": [],
   "source": [
    "@print_it\n",
    "def ADD(a, b):\n",
    "    return a+b"
   ]
  },
  {
   "cell_type": "code",
   "execution_count": 25,
   "id": "e56dae27",
   "metadata": {},
   "outputs": [
    {
     "name": "stdout",
     "output_type": "stream",
     "text": [
      "sum(2,3) is = to 5\n"
     ]
    }
   ],
   "source": [
    "sum(2,3)"
   ]
  },
  {
   "cell_type": "code",
   "execution_count": 26,
   "id": "09d75f34",
   "metadata": {},
   "outputs": [],
   "source": [
    "@print_it\n",
    "def MUL(a,b):\n",
    "    return a*b"
   ]
  },
  {
   "cell_type": "code",
   "execution_count": 27,
   "id": "8c62794d",
   "metadata": {},
   "outputs": [
    {
     "name": "stdout",
     "output_type": "stream",
     "text": [
      "product(2,3) is = to 6\n"
     ]
    }
   ],
   "source": [
    "product(2,3)"
   ]
  },
  {
   "cell_type": "markdown",
   "id": "50acd518",
   "metadata": {},
   "source": [
    "Now the output is printed in fance way even though I have not made any changes to the function except adding a statement\n",
    "above function wiht '@print_it'"
   ]
  },
  {
   "cell_type": "code",
   "execution_count": null,
   "id": "8cf2b97e",
   "metadata": {},
   "outputs": [],
   "source": []
  }
 ],
 "metadata": {
  "kernelspec": {
   "display_name": "Python 3 (ipykernel)",
   "language": "python",
   "name": "python3"
  },
  "language_info": {
   "codemirror_mode": {
    "name": "ipython",
    "version": 3
   },
   "file_extension": ".py",
   "mimetype": "text/x-python",
   "name": "python",
   "nbconvert_exporter": "python",
   "pygments_lexer": "ipython3",
   "version": "3.9.7"
  }
 },
 "nbformat": 4,
 "nbformat_minor": 5
}
