{
 "cells": [
  {
   "cell_type": "markdown",
   "id": "a063dc6d",
   "metadata": {},
   "source": [
    "A class inherited from multiple base classes is called multiple inheritance"
   ]
  },
  {
   "cell_type": "markdown",
   "id": "b91b1cc0",
   "metadata": {},
   "source": [
    "Let us create two classes $Fruit$ and $Base2$.  "
   ]
  },
  {
   "cell_type": "code",
   "execution_count": 10,
   "id": "8e17a96a",
   "metadata": {},
   "outputs": [],
   "source": [
    "class Fruits :\n",
    "    def Orange(self):\n",
    "        print (\"This is orange in  Fruits class \")"
   ]
  },
  {
   "cell_type": "code",
   "execution_count": 11,
   "id": "d6cc7962",
   "metadata": {},
   "outputs": [],
   "source": [
    "class Veggies:\n",
    "    def Tomato(self):\n",
    "        print (\"This is Tomato in Veggies class\")"
   ]
  },
  {
   "cell_type": "markdown",
   "id": "5e98689c",
   "metadata": {},
   "source": [
    "No we define the derived class $Recipes$ which inherit both $Fruites$ and $Veggies$"
   ]
  },
  {
   "cell_type": "code",
   "execution_count": 12,
   "id": "c8efbc95",
   "metadata": {},
   "outputs": [],
   "source": [
    "class Recipes(Fruits,Veggies):\n",
    "    def display(self):\n",
    "        print (\"This is Recipe class\")\n",
    "    "
   ]
  },
  {
   "cell_type": "markdown",
   "id": "53b61ef3",
   "metadata": {},
   "source": [
    "Let us create object of $Recipes$. With this object we will be able to access all the data and methods of $Fruites$  and $Veggies$"
   ]
  },
  {
   "cell_type": "code",
   "execution_count": 13,
   "id": "1d5ff0fd",
   "metadata": {},
   "outputs": [],
   "source": [
    "obj = Recipes()"
   ]
  },
  {
   "cell_type": "code",
   "execution_count": 14,
   "id": "e3ea4e85",
   "metadata": {},
   "outputs": [
    {
     "name": "stdout",
     "output_type": "stream",
     "text": [
      "This is Recipe class\n"
     ]
    }
   ],
   "source": [
    "obj.display()  # method of Recipes"
   ]
  },
  {
   "cell_type": "code",
   "execution_count": 15,
   "id": "289890ed",
   "metadata": {},
   "outputs": [
    {
     "name": "stdout",
     "output_type": "stream",
     "text": [
      "This is orange in  Fruits class \n"
     ]
    }
   ],
   "source": [
    "obj.Orange() # Method of Fruites through object of Recipes"
   ]
  },
  {
   "cell_type": "code",
   "execution_count": 17,
   "id": "b0cc7a73",
   "metadata": {},
   "outputs": [
    {
     "name": "stdout",
     "output_type": "stream",
     "text": [
      "This is Tomato in Veggies class\n"
     ]
    }
   ],
   "source": [
    "obj.Tomato()"
   ]
  },
  {
   "cell_type": "code",
   "execution_count": null,
   "id": "a090577c",
   "metadata": {},
   "outputs": [],
   "source": []
  }
 ],
 "metadata": {
  "kernelspec": {
   "display_name": "Python 3 (ipykernel)",
   "language": "python",
   "name": "python3"
  },
  "language_info": {
   "codemirror_mode": {
    "name": "ipython",
    "version": 3
   },
   "file_extension": ".py",
   "mimetype": "text/x-python",
   "name": "python",
   "nbconvert_exporter": "python",
   "pygments_lexer": "ipython3",
   "version": "3.9.7"
  }
 },
 "nbformat": 4,
 "nbformat_minor": 5
}
