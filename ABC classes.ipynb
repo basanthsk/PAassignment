{
 "cells": [
  {
   "cell_type": "markdown",
   "id": "de9c1cdd",
   "metadata": {},
   "source": [
    "Abstract Base Classes(ABC) have below properties:\n",
    "1. Abstract Base Classes(ABC) are classes which contain abstract methods.\n",
    "2. Abstract methods are methods which are declared but they do not coantian any implementation.\n",
    "3. Abstract classes cannot be instantiated and subclasses must provide the implementation for abstract methods. \n",
    "\n",
    "ABC class also serves as blueprint for the other classes\n"
   ]
  },
  {
   "cell_type": "markdown",
   "id": "0231f00a",
   "metadata": {},
   "source": [
    "To create an abstract class in python we need to import module $abc(abstract base class)$"
   ]
  },
  {
   "cell_type": "markdown",
   "id": "38083dfa",
   "metadata": {},
   "source": [
    "syntax to create an abstract class is given below, by inheriting the ABC class from the $abc$ module in Python. To define an abstract method we use the $@abstractmethod$ decorator of the $abc$"
   ]
  },
  {
   "cell_type": "code",
   "execution_count": null,
   "id": "c578fb71",
   "metadata": {},
   "outputs": [],
   "source": [
    "from abc import ABC, abstractmethod\n",
    "class <Abstract_Class_Name>(ABC):\n",
    "    @abstractmethod\n",
    "    def <Abstract_Method_Name>(self):\n",
    "        pass<no implemetation>"
   ]
  },
  {
   "cell_type": "markdown",
   "id": "2d3227b8",
   "metadata": {},
   "source": [
    "To demostrate the ABC class let us consider the below example.\n",
    "Let us say we have two IoT devices smart $Light$ and $Speaker$. To achieve this we create a class $device$  which serves as blueprint class or ABC class.This class will also provide the methods that are needed to be implemented in its child classes with specific device.\n",
    "with threee abstract methods \n",
    "1. connect: To connect the device\n",
    "2. disconnect: To disconnect the device\n",
    "3. status: To status of the device \n",
    "\n",
    "as below\n",
    "\n"
   ]
  },
  {
   "cell_type": "code",
   "execution_count": 4,
   "id": "fb460753",
   "metadata": {},
   "outputs": [],
   "source": [
    "from abc import ABC,abstractmethod\n",
    "class device(ABC):\n",
    "    @abstractmethod\n",
    "    def connect(self):\n",
    "        pass\n",
    "    @abstractmethod\n",
    "    def disconnect(self):\n",
    "        pass\n",
    "    @abstractmethod\n",
    "    def status(self):\n",
    "        pass"
   ]
  },
  {
   "cell_type": "markdown",
   "id": "65e3e366",
   "metadata": {},
   "source": [
    "Let us assume that we have two devices which inherits from this ABC $device$ class \n",
    "1. Light\n",
    "2. Speaker\n",
    "\n",
    "\n",
    "These devices also have to implement $connect, disconnect, statuse$ methods \n",
    "The implemetation of theses classes is shown below"
   ]
  },
  {
   "cell_type": "code",
   "execution_count": 14,
   "id": "2ae47915",
   "metadata": {},
   "outputs": [],
   "source": [
    "class Light(device):\n",
    "    def connect(self):\n",
    "        print(\"Smart Light is connected\")\n",
    "    def disconnect(self):\n",
    "        print(\"Smart Light is disconnected\")\n",
    "    def status(self):\n",
    "        print(\"Smart Light is status is ok\")\n",
    "        "
   ]
  },
  {
   "cell_type": "code",
   "execution_count": 24,
   "id": "4963cecd",
   "metadata": {},
   "outputs": [],
   "source": [
    "class Speaker(device):\n",
    "    def connect(self):\n",
    "        print(\"Smart Speaker is connected\")\n",
    "    def disconnect(self):\n",
    "        print(\"Smart Speaker is disconnected\")\n",
    "    def status(self):\n",
    "        print(\"Smart Speaker is status is ok\")"
   ]
  },
  {
   "cell_type": "code",
   "execution_count": 17,
   "id": "e233ac40",
   "metadata": {},
   "outputs": [],
   "source": [
    "light1 = Light()"
   ]
  },
  {
   "cell_type": "code",
   "execution_count": 19,
   "id": "f985b035",
   "metadata": {},
   "outputs": [
    {
     "name": "stdout",
     "output_type": "stream",
     "text": [
      "Smart Light is connected\n"
     ]
    }
   ],
   "source": [
    "light1.connect()"
   ]
  },
  {
   "cell_type": "code",
   "execution_count": 20,
   "id": "b0a3aa6f",
   "metadata": {},
   "outputs": [
    {
     "name": "stdout",
     "output_type": "stream",
     "text": [
      "Smart Light is disconnected\n"
     ]
    }
   ],
   "source": [
    "light1.disconnect()"
   ]
  },
  {
   "cell_type": "code",
   "execution_count": 29,
   "id": "c00b445c",
   "metadata": {},
   "outputs": [
    {
     "name": "stdout",
     "output_type": "stream",
     "text": [
      "Smart Light is status is ok\n"
     ]
    }
   ],
   "source": [
    "light1.status()"
   ]
  },
  {
   "cell_type": "code",
   "execution_count": 26,
   "id": "1d20be9e",
   "metadata": {},
   "outputs": [],
   "source": [
    "speaker1=Speaker()"
   ]
  },
  {
   "cell_type": "code",
   "execution_count": 27,
   "id": "cdb0e691",
   "metadata": {},
   "outputs": [
    {
     "name": "stdout",
     "output_type": "stream",
     "text": [
      "Smart Speaker is connected\n"
     ]
    }
   ],
   "source": [
    "speaker1.connect()"
   ]
  },
  {
   "cell_type": "code",
   "execution_count": 28,
   "id": "49194c89",
   "metadata": {},
   "outputs": [
    {
     "name": "stdout",
     "output_type": "stream",
     "text": [
      "Smart Speaker is disconnected\n"
     ]
    }
   ],
   "source": [
    "speaker1.disconnect()"
   ]
  },
  {
   "cell_type": "code",
   "execution_count": 30,
   "id": "b85d461e",
   "metadata": {},
   "outputs": [
    {
     "name": "stdout",
     "output_type": "stream",
     "text": [
      "Smart Speaker is status is ok\n"
     ]
    }
   ],
   "source": [
    "speaker1.status()"
   ]
  },
  {
   "cell_type": "code",
   "execution_count": null,
   "id": "89e22113",
   "metadata": {},
   "outputs": [],
   "source": []
  }
 ],
 "metadata": {
  "kernelspec": {
   "display_name": "Python 3 (ipykernel)",
   "language": "python",
   "name": "python3"
  },
  "language_info": {
   "codemirror_mode": {
    "name": "ipython",
    "version": 3
   },
   "file_extension": ".py",
   "mimetype": "text/x-python",
   "name": "python",
   "nbconvert_exporter": "python",
   "pygments_lexer": "ipython3",
   "version": "3.9.7"
  }
 },
 "nbformat": 4,
 "nbformat_minor": 5
}
